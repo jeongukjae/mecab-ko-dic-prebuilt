{
  "nbformat": 4,
  "nbformat_minor": 0,
  "metadata": {
    "colab": {
      "name": "mecab-ko-dic-prebuilt-example.ipynb",
      "provenance": [],
      "collapsed_sections": [],
      "authorship_tag": "ABX9TyMYh+qGIiRNR2deHfXz7+J7",
      "include_colab_link": true
    },
    "kernelspec": {
      "name": "python3",
      "display_name": "Python 3"
    },
    "language_info": {
      "name": "python"
    }
  },
  "cells": [
    {
      "cell_type": "markdown",
      "metadata": {
        "id": "view-in-github",
        "colab_type": "text"
      },
      "source": [
        "<a href=\"https://colab.research.google.com/github/jeongukjae/mecab-ko-dic-prebuilt/blob/main/example-of-mecab-ko-dic-prebuilt--and-mecab-tf.ipynb\" target=\"_parent\"><img src=\"https://colab.research.google.com/assets/colab-badge.svg\" alt=\"Open In Colab\"/></a>"
      ]
    },
    {
      "cell_type": "code",
      "metadata": {
        "colab": {
          "base_uri": "https://localhost:8080/"
        },
        "id": "xbQ6fBHm3Ihb",
        "outputId": "93becd07-7c04-4a32-de2c-c6187ae91728"
      },
      "source": [
        "!pip install mecab-tf tensorflow==2.4.1\n",
        "!pip list | grep tensorflow\n",
        "\n",
        "!rm -rf mecab-ko-dic.zip mecab-ko-dic\n",
        "!curl -LO https://github.com/jeongukjae/mecab-ko-dic-prebuilt/releases/download/2.1.1-20180720/mecab-ko-dic.zip\n",
        "!unzip mecab-ko-dic.zip"
      ],
      "execution_count": 1,
      "outputs": [
        {
          "output_type": "stream",
          "text": [
            "Requirement already satisfied: mecab-tf in /usr/local/lib/python3.7/dist-packages (0.996.0a3)\n",
            "Requirement already satisfied: tensorflow==2.4.1 in /usr/local/lib/python3.7/dist-packages (2.4.1)\n",
            "Requirement already satisfied: typing-extensions~=3.7.4 in /usr/local/lib/python3.7/dist-packages (from tensorflow==2.4.1) (3.7.4.3)\n",
            "Requirement already satisfied: wheel~=0.35 in /usr/local/lib/python3.7/dist-packages (from tensorflow==2.4.1) (0.36.2)\n",
            "Requirement already satisfied: grpcio~=1.32.0 in /usr/local/lib/python3.7/dist-packages (from tensorflow==2.4.1) (1.32.0)\n",
            "Requirement already satisfied: flatbuffers~=1.12.0 in /usr/local/lib/python3.7/dist-packages (from tensorflow==2.4.1) (1.12)\n",
            "Requirement already satisfied: numpy~=1.19.2 in /usr/local/lib/python3.7/dist-packages (from tensorflow==2.4.1) (1.19.5)\n",
            "Requirement already satisfied: termcolor~=1.1.0 in /usr/local/lib/python3.7/dist-packages (from tensorflow==2.4.1) (1.1.0)\n",
            "Requirement already satisfied: gast==0.3.3 in /usr/local/lib/python3.7/dist-packages (from tensorflow==2.4.1) (0.3.3)\n",
            "Requirement already satisfied: wrapt~=1.12.1 in /usr/local/lib/python3.7/dist-packages (from tensorflow==2.4.1) (1.12.1)\n",
            "Requirement already satisfied: tensorflow-estimator<2.5.0,>=2.4.0 in /usr/local/lib/python3.7/dist-packages (from tensorflow==2.4.1) (2.4.0)\n",
            "Requirement already satisfied: google-pasta~=0.2 in /usr/local/lib/python3.7/dist-packages (from tensorflow==2.4.1) (0.2.0)\n",
            "Requirement already satisfied: keras-preprocessing~=1.1.2 in /usr/local/lib/python3.7/dist-packages (from tensorflow==2.4.1) (1.1.2)\n",
            "Requirement already satisfied: tensorboard~=2.4 in /usr/local/lib/python3.7/dist-packages (from tensorflow==2.4.1) (2.4.1)\n",
            "Requirement already satisfied: absl-py~=0.10 in /usr/local/lib/python3.7/dist-packages (from tensorflow==2.4.1) (0.12.0)\n",
            "Requirement already satisfied: opt-einsum~=3.3.0 in /usr/local/lib/python3.7/dist-packages (from tensorflow==2.4.1) (3.3.0)\n",
            "Requirement already satisfied: protobuf>=3.9.2 in /usr/local/lib/python3.7/dist-packages (from tensorflow==2.4.1) (3.12.4)\n",
            "Requirement already satisfied: six~=1.15.0 in /usr/local/lib/python3.7/dist-packages (from tensorflow==2.4.1) (1.15.0)\n",
            "Requirement already satisfied: h5py~=2.10.0 in /usr/local/lib/python3.7/dist-packages (from tensorflow==2.4.1) (2.10.0)\n",
            "Requirement already satisfied: astunparse~=1.6.3 in /usr/local/lib/python3.7/dist-packages (from tensorflow==2.4.1) (1.6.3)\n",
            "Requirement already satisfied: markdown>=2.6.8 in /usr/local/lib/python3.7/dist-packages (from tensorboard~=2.4->tensorflow==2.4.1) (3.3.4)\n",
            "Requirement already satisfied: requests<3,>=2.21.0 in /usr/local/lib/python3.7/dist-packages (from tensorboard~=2.4->tensorflow==2.4.1) (2.23.0)\n",
            "Requirement already satisfied: setuptools>=41.0.0 in /usr/local/lib/python3.7/dist-packages (from tensorboard~=2.4->tensorflow==2.4.1) (56.1.0)\n",
            "Requirement already satisfied: google-auth<2,>=1.6.3 in /usr/local/lib/python3.7/dist-packages (from tensorboard~=2.4->tensorflow==2.4.1) (1.30.0)\n",
            "Requirement already satisfied: werkzeug>=0.11.15 in /usr/local/lib/python3.7/dist-packages (from tensorboard~=2.4->tensorflow==2.4.1) (2.0.0)\n",
            "Requirement already satisfied: tensorboard-plugin-wit>=1.6.0 in /usr/local/lib/python3.7/dist-packages (from tensorboard~=2.4->tensorflow==2.4.1) (1.8.0)\n",
            "Requirement already satisfied: google-auth-oauthlib<0.5,>=0.4.1 in /usr/local/lib/python3.7/dist-packages (from tensorboard~=2.4->tensorflow==2.4.1) (0.4.4)\n",
            "Requirement already satisfied: importlib-metadata; python_version < \"3.8\" in /usr/local/lib/python3.7/dist-packages (from markdown>=2.6.8->tensorboard~=2.4->tensorflow==2.4.1) (4.0.1)\n",
            "Requirement already satisfied: chardet<4,>=3.0.2 in /usr/local/lib/python3.7/dist-packages (from requests<3,>=2.21.0->tensorboard~=2.4->tensorflow==2.4.1) (3.0.4)\n",
            "Requirement already satisfied: urllib3!=1.25.0,!=1.25.1,<1.26,>=1.21.1 in /usr/local/lib/python3.7/dist-packages (from requests<3,>=2.21.0->tensorboard~=2.4->tensorflow==2.4.1) (1.24.3)\n",
            "Requirement already satisfied: certifi>=2017.4.17 in /usr/local/lib/python3.7/dist-packages (from requests<3,>=2.21.0->tensorboard~=2.4->tensorflow==2.4.1) (2020.12.5)\n",
            "Requirement already satisfied: idna<3,>=2.5 in /usr/local/lib/python3.7/dist-packages (from requests<3,>=2.21.0->tensorboard~=2.4->tensorflow==2.4.1) (2.10)\n",
            "Requirement already satisfied: cachetools<5.0,>=2.0.0 in /usr/local/lib/python3.7/dist-packages (from google-auth<2,>=1.6.3->tensorboard~=2.4->tensorflow==2.4.1) (4.2.2)\n",
            "Requirement already satisfied: rsa<5,>=3.1.4; python_version >= \"3.6\" in /usr/local/lib/python3.7/dist-packages (from google-auth<2,>=1.6.3->tensorboard~=2.4->tensorflow==2.4.1) (4.7.2)\n",
            "Requirement already satisfied: pyasn1-modules>=0.2.1 in /usr/local/lib/python3.7/dist-packages (from google-auth<2,>=1.6.3->tensorboard~=2.4->tensorflow==2.4.1) (0.2.8)\n",
            "Requirement already satisfied: requests-oauthlib>=0.7.0 in /usr/local/lib/python3.7/dist-packages (from google-auth-oauthlib<0.5,>=0.4.1->tensorboard~=2.4->tensorflow==2.4.1) (1.3.0)\n",
            "Requirement already satisfied: zipp>=0.5 in /usr/local/lib/python3.7/dist-packages (from importlib-metadata; python_version < \"3.8\"->markdown>=2.6.8->tensorboard~=2.4->tensorflow==2.4.1) (3.4.1)\n",
            "Requirement already satisfied: pyasn1>=0.1.3 in /usr/local/lib/python3.7/dist-packages (from rsa<5,>=3.1.4; python_version >= \"3.6\"->google-auth<2,>=1.6.3->tensorboard~=2.4->tensorflow==2.4.1) (0.4.8)\n",
            "Requirement already satisfied: oauthlib>=3.0.0 in /usr/local/lib/python3.7/dist-packages (from requests-oauthlib>=0.7.0->google-auth-oauthlib<0.5,>=0.4.1->tensorboard~=2.4->tensorflow==2.4.1) (3.1.0)\n",
            "tensorflow                    2.4.1         \n",
            "tensorflow-datasets           4.0.1         \n",
            "tensorflow-estimator          2.4.0         \n",
            "tensorflow-gcs-config         2.4.0         \n",
            "tensorflow-hub                0.12.0        \n",
            "tensorflow-metadata           0.30.0        \n",
            "tensorflow-probability        0.12.1        \n",
            "  % Total    % Received % Xferd  Average Speed   Time    Time     Time  Current\n",
            "                                 Dload  Upload   Total   Spent    Left  Speed\n",
            "100   624  100   624    0     0   4875      0 --:--:-- --:--:-- --:--:--  4875\n",
            "100 32.8M  100 32.8M    0     0  24.3M      0  0:00:01  0:00:01 --:--:-- 32.4M\n",
            "Archive:  mecab-ko-dic.zip\n",
            "   creating: mecab-ko-dic/\n",
            "  inflating: mecab-ko-dic/rewrite.def  \n",
            "  inflating: mecab-ko-dic/model.bin  \n",
            "  inflating: mecab-ko-dic/left-id.def  \n",
            "  inflating: mecab-ko-dic/pos-id.def  \n",
            "  inflating: mecab-ko-dic/matrix.bin  \n",
            "  inflating: mecab-ko-dic/unk.dic    \n",
            "  inflating: mecab-ko-dic/sys.dic    \n",
            "  inflating: mecab-ko-dic/dicrc      \n",
            "  inflating: mecab-ko-dic/right-id.def  \n",
            "  inflating: mecab-ko-dic/char.bin   \n"
          ],
          "name": "stdout"
        }
      ]
    },
    {
      "cell_type": "code",
      "metadata": {
        "colab": {
          "base_uri": "https://localhost:8080/"
        },
        "id": "ese0-YYW3K1F",
        "outputId": "af062ff9-ba1e-4be3-8960-2fb0acf76507"
      },
      "source": [
        "import tensorflow as tf\n",
        "from mecab_tf import MecabTagger\n",
        "\n",
        "tagger = MecabTagger(\"./mecab-ko-dic\")\n",
        "\n",
        "surfaces, features = tagger.tag(\"mecab-ko-dic은 MeCab을 사용하여, 한국어 형태소 분석을 하기 위한 프로젝트입니다.\")\n",
        "for surface, feature in zip(surfaces, features):\n",
        "    tf.print(surface, \"\\t\", feature)"
      ],
      "execution_count": 2,
      "outputs": [
        {
          "output_type": "stream",
          "text": [
            "\"\" \t \"BOS/EOS,*,*,*,*,*,*,*\"\n",
            "\"mecab\" \t \"SL,*,*,*,*,*,*,*\"\n",
            "\"-\" \t \"SY,*,*,*,*,*,*,*\"\n",
            "\"ko\" \t \"SL,*,*,*,*,*,*,*\"\n",
            "\"-\" \t \"SY,*,*,*,*,*,*,*\"\n",
            "\"dic\" \t \"SL,*,*,*,*,*,*,*\"\n",
            "\"은\" \t \"JX,*,T,은,*,*,*,*\"\n",
            "\"MeCab\" \t \"SL,*,*,*,*,*,*,*\"\n",
            "\"을\" \t \"JKO,*,T,을,*,*,*,*\"\n",
            "\"사용\" \t \"NNG,행위,T,사용,*,*,*,*\"\n",
            "\"하\" \t \"XSV,*,F,하,*,*,*,*\"\n",
            "\"여\" \t \"EC,*,F,여,*,*,*,*\"\n",
            "\",\" \t \"SC,*,*,*,*,*,*,*\"\n",
            "\"한국어\" \t \"NNG,*,F,한국어,Compound,*,*,한국/NNG/*+어/NNG/*\"\n",
            "\"형태소\" \t \"NNG,*,F,형태소,Compound,*,*,형태/NNG/*+소/NNG/*\"\n",
            "\"분석\" \t \"NNG,행위,T,분석,*,*,*,*\"\n",
            "\"을\" \t \"JKO,*,T,을,*,*,*,*\"\n",
            "\"하\" \t \"VV,*,F,하,*,*,*,*\"\n",
            "\"기\" \t \"ETN,*,F,기,*,*,*,*\"\n",
            "\"위한\" \t \"VV+ETM,*,T,위한,Inflect,VV,ETM,위하/VV/*+ᆫ/ETM/*\"\n",
            "\"프로젝트\" \t \"NNG,*,F,프로젝트,*,*,*,*\"\n",
            "\"입니다\" \t \"VCP+EF,*,F,입니다,Inflect,VCP,EF,이/VCP/*+ᄇ니다/EF/*\"\n",
            "\".\" \t \"SF,*,*,*,*,*,*,*\"\n",
            "\"\" \t \"BOS/EOS,*,*,*,*,*,*,*\"\n"
          ],
          "name": "stdout"
        }
      ]
    }
  ]
}